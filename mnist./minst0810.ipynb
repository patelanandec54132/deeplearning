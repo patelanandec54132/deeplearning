{
  "nbformat": 4,
  "nbformat_minor": 0,
  "metadata": {
    "colab": {
      "provenance": [],
      "authorship_tag": "ABX9TyNkbUIM3oCxdtk+gpvOEusL",
      "include_colab_link": true
    },
    "kernelspec": {
      "name": "python3",
      "display_name": "Python 3"
    },
    "language_info": {
      "name": "python"
    }
  },
  "cells": [
    {
      "cell_type": "markdown",
      "metadata": {
        "id": "view-in-github",
        "colab_type": "text"
      },
      "source": [
        "<a href=\"https://colab.research.google.com/github/patelanandec54132/deeplearning/blob/main/mnist./minst0810.ipynb\" target=\"_parent\"><img src=\"https://colab.research.google.com/assets/colab-badge.svg\" alt=\"Open In Colab\"/></a>"
      ]
    },
    {
      "cell_type": "code",
      "execution_count": 2,
      "metadata": {
        "id": "wqRG9-6iRf1n"
      },
      "outputs": [],
      "source": [
        "import numpy as np\n",
        "from tensorflow import keras\n",
        "from tensorflow.keras import layers"
      ]
    },
    {
      "cell_type": "code",
      "source": [
        "# Model / data parameters\n",
        "num_classes = 10\n",
        "input_shape = (28, 28, 1)\n",
        "\n",
        "# Load the data and split it between train and test sets\n",
        "(x_train, y_train), (x_test, y_test) = keras.datasets.mnist.load_data()\n",
        "\n",
        "# Scale images to the [0, 1] range\n",
        "x_train = x_train.astype(\"float32\") / 255\n",
        "x_test = x_test.astype(\"float32\") / 255\n",
        "# Make sure images have shape (28, 28, 1)\n",
        "x_train = np.expand_dims(x_train, -1)\n",
        "x_test = np.expand_dims(x_test, -1)\n",
        "print(\"x_train shape:\", x_train.shape)\n",
        "print(x_train.shape[0], \"train samples\")\n",
        "print(x_test.shape[0], \"test samples\")\n",
        "\n",
        "\n",
        "# convert class vectors to binary class matrices\n",
        "y_train = keras.utils.to_categorical(y_train, num_classes)\n",
        "y_test = keras.utils.to_categorical(y_test, num_classes)"
      ],
      "metadata": {
        "colab": {
          "base_uri": "https://localhost:8080/"
        },
        "id": "uonqu4nmRk3c",
        "outputId": "f78fbeec-c94d-4bbf-b0e5-e3483d60824f"
      },
      "execution_count": 3,
      "outputs": [
        {
          "output_type": "stream",
          "name": "stdout",
          "text": [
            "Downloading data from https://storage.googleapis.com/tensorflow/tf-keras-datasets/mnist.npz\n",
            "11493376/11490434 [==============================] - 0s 0us/step\n",
            "11501568/11490434 [==============================] - 0s 0us/step\n",
            "x_train shape: (60000, 28, 28, 1)\n",
            "60000 train samples\n",
            "10000 test samples\n"
          ]
        }
      ]
    },
    {
      "cell_type": "code",
      "source": [
        "model = keras.Sequential(\n",
        "    [\n",
        "        keras.Input(shape=input_shape),\n",
        "        layers.Conv2D(32, kernel_size=(3, 3), activation=\"relu\"),\n",
        "        layers.MaxPooling2D(pool_size=(2, 2)),\n",
        "        layers.Conv2D(64, kernel_size=(3, 3), activation=\"relu\"),\n",
        "        layers.MaxPooling2D(pool_size=(2, 2)),\n",
        "        layers.Flatten(),\n",
        "        layers.Dropout(0.5),\n",
        "        layers.Dense(num_classes, activation=\"softmax\"),\n",
        "    ]\n",
        ")\n",
        "\n",
        "model.summary()"
      ],
      "metadata": {
        "colab": {
          "base_uri": "https://localhost:8080/"
        },
        "id": "xF9M3HBpTvj_",
        "outputId": "f6012e8d-19cf-46cf-ee0b-804022f70aa7"
      },
      "execution_count": 4,
      "outputs": [
        {
          "output_type": "stream",
          "name": "stdout",
          "text": [
            "Model: \"sequential\"\n",
            "_________________________________________________________________\n",
            " Layer (type)                Output Shape              Param #   \n",
            "=================================================================\n",
            " conv2d (Conv2D)             (None, 26, 26, 32)        320       \n",
            "                                                                 \n",
            " max_pooling2d (MaxPooling2D  (None, 13, 13, 32)       0         \n",
            " )                                                               \n",
            "                                                                 \n",
            " conv2d_1 (Conv2D)           (None, 11, 11, 64)        18496     \n",
            "                                                                 \n",
            " max_pooling2d_1 (MaxPooling  (None, 5, 5, 64)         0         \n",
            " 2D)                                                             \n",
            "                                                                 \n",
            " flatten (Flatten)           (None, 1600)              0         \n",
            "                                                                 \n",
            " dropout (Dropout)           (None, 1600)              0         \n",
            "                                                                 \n",
            " dense (Dense)               (None, 10)                16010     \n",
            "                                                                 \n",
            "=================================================================\n",
            "Total params: 34,826\n",
            "Trainable params: 34,826\n",
            "Non-trainable params: 0\n",
            "_________________________________________________________________\n"
          ]
        }
      ]
    },
    {
      "cell_type": "code",
      "source": [
        "batch_size = 128\n",
        "epochs = 15\n",
        "\n",
        "model.compile(loss=\"categorical_crossentropy\", optimizer=\"adam\", metrics=[\"accuracy\"])\n",
        "\n",
        "model.fit(x_train, y_train, batch_size=batch_size, epochs=epochs, validation_split=0.1)"
      ],
      "metadata": {
        "colab": {
          "base_uri": "https://localhost:8080/"
        },
        "id": "DY7vOksGT28r",
        "outputId": "1089d3ce-7db3-4875-c412-2ae63b1b41b1"
      },
      "execution_count": 5,
      "outputs": [
        {
          "output_type": "stream",
          "name": "stdout",
          "text": [
            "Epoch 1/15\n",
            "422/422 [==============================] - 39s 91ms/step - loss: 0.3732 - accuracy: 0.8877 - val_loss: 0.0841 - val_accuracy: 0.9758\n",
            "Epoch 2/15\n",
            "422/422 [==============================] - 37s 88ms/step - loss: 0.1126 - accuracy: 0.9653 - val_loss: 0.0564 - val_accuracy: 0.9847\n",
            "Epoch 3/15\n",
            "422/422 [==============================] - 37s 88ms/step - loss: 0.0841 - accuracy: 0.9740 - val_loss: 0.0490 - val_accuracy: 0.9872\n",
            "Epoch 4/15\n",
            "422/422 [==============================] - 37s 87ms/step - loss: 0.0703 - accuracy: 0.9789 - val_loss: 0.0437 - val_accuracy: 0.9883\n",
            "Epoch 5/15\n",
            "422/422 [==============================] - 38s 90ms/step - loss: 0.0625 - accuracy: 0.9807 - val_loss: 0.0425 - val_accuracy: 0.9885\n",
            "Epoch 6/15\n",
            "422/422 [==============================] - 36s 86ms/step - loss: 0.0562 - accuracy: 0.9826 - val_loss: 0.0381 - val_accuracy: 0.9905\n",
            "Epoch 7/15\n",
            "422/422 [==============================] - 37s 88ms/step - loss: 0.0514 - accuracy: 0.9839 - val_loss: 0.0350 - val_accuracy: 0.9905\n",
            "Epoch 8/15\n",
            "422/422 [==============================] - 38s 90ms/step - loss: 0.0458 - accuracy: 0.9858 - val_loss: 0.0362 - val_accuracy: 0.9908\n",
            "Epoch 9/15\n",
            "422/422 [==============================] - 38s 89ms/step - loss: 0.0442 - accuracy: 0.9864 - val_loss: 0.0323 - val_accuracy: 0.9923\n",
            "Epoch 10/15\n",
            "422/422 [==============================] - 37s 88ms/step - loss: 0.0422 - accuracy: 0.9867 - val_loss: 0.0328 - val_accuracy: 0.9928\n",
            "Epoch 11/15\n",
            "422/422 [==============================] - 37s 89ms/step - loss: 0.0395 - accuracy: 0.9874 - val_loss: 0.0348 - val_accuracy: 0.9918\n",
            "Epoch 12/15\n",
            "422/422 [==============================] - 38s 90ms/step - loss: 0.0361 - accuracy: 0.9885 - val_loss: 0.0308 - val_accuracy: 0.9923\n",
            "Epoch 13/15\n",
            "422/422 [==============================] - 37s 88ms/step - loss: 0.0356 - accuracy: 0.9885 - val_loss: 0.0295 - val_accuracy: 0.9933\n",
            "Epoch 14/15\n",
            "422/422 [==============================] - 37s 87ms/step - loss: 0.0330 - accuracy: 0.9893 - val_loss: 0.0309 - val_accuracy: 0.9923\n",
            "Epoch 15/15\n",
            "422/422 [==============================] - 38s 90ms/step - loss: 0.0338 - accuracy: 0.9895 - val_loss: 0.0327 - val_accuracy: 0.9903\n"
          ]
        },
        {
          "output_type": "execute_result",
          "data": {
            "text/plain": [
              "<keras.callbacks.History at 0x7f955cfb3950>"
            ]
          },
          "metadata": {},
          "execution_count": 5
        }
      ]
    },
    {
      "cell_type": "code",
      "source": [
        "score = model.evaluate(x_test, y_test, verbose=0)\n",
        "print(\"Test loss:\", score[0])\n",
        "print(\"Test accuracy:\", score[1])"
      ],
      "metadata": {
        "id": "vqL8EQRjT7yu"
      },
      "execution_count": null,
      "outputs": []
    }
  ]
}